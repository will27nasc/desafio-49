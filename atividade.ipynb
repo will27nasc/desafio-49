{
 "cells": [
  {
   "cell_type": "code",
   "execution_count": 34,
   "metadata": {},
   "outputs": [
    {
     "name": "stdout",
     "output_type": "stream",
     "text": [
      "Na canção \"Não viva em vão\" do Chalie Brown Jr tem um total de 236 vogais.\n"
     ]
    }
   ],
   "source": [
    "song = \"arquivo.txt\"\n",
    "cont = 0\n",
    "\n",
    "arq = open(song, \"r\", encoding=\"utf-8\")\n",
    "conteudo = arq.read().lower().replace(\",\",\" \")\n",
    "palavras = conteudo.split()\n",
    "\n",
    "for x in palavras:\n",
    "    for i in x:\n",
    "        if i == 'a':\n",
    "            cont += 1\n",
    "        elif i == 'e':\n",
    "            cont += 1\n",
    "        elif i == 'i':\n",
    "            cont += 1\n",
    "        elif i == 'o':\n",
    "            cont += 1\n",
    "        elif i == 'u':\n",
    "            cont += 1\n",
    "\n",
    "print(f'Na canção \"Não viva em vão\" do Charlie Brown Jr tem um total de {cont} vogais.')\n",
    "\n",
    "arq.close()"
   ]
  }
 ],
 "metadata": {
  "kernelspec": {
   "display_name": "Python 3",
   "language": "python",
   "name": "python3"
  },
  "language_info": {
   "codemirror_mode": {
    "name": "ipython",
    "version": 3
   },
   "file_extension": ".py",
   "mimetype": "text/x-python",
   "name": "python",
   "nbconvert_exporter": "python",
   "pygments_lexer": "ipython3",
   "version": "3.10.12"
  },
  "orig_nbformat": 4
 },
 "nbformat": 4,
 "nbformat_minor": 2
}
